{
 "cells": [
  {
   "cell_type": "code",
   "execution_count": 1,
   "id": "e353f409",
   "metadata": {},
   "outputs": [
    {
     "name": "stdout",
     "output_type": "stream",
     "text": [
      "Collecting openyxl\n",
      "  Downloading openyxl-0.1.tar.gz (6.8 kB)\n",
      "  Preparing metadata (setup.py): started\n",
      "  Preparing metadata (setup.py): finished with status 'done'\n",
      "Using legacy 'setup.py install' for openyxl, since package 'wheel' is not installed.\n",
      "Installing collected packages: openyxl\n",
      "  Running setup.py install for openyxl: started\n",
      "  Running setup.py install for openyxl: finished with status 'done'\n",
      "Successfully installed openyxl-0.1\n",
      "Note: you may need to restart the kernel to use updated packages.\n"
     ]
    },
    {
     "name": "stderr",
     "output_type": "stream",
     "text": [
      "WARNING: You are using pip version 22.0.3; however, version 23.0 is available.\n",
      "You should consider upgrading via the 'C:\\Users\\acer\\AppData\\Local\\Programs\\Python\\Python310\\python.exe -m pip install --upgrade pip' command.\n"
     ]
    }
   ],
   "source": [
    "pip install openyxl"
   ]
  },
  {
   "cell_type": "code",
   "execution_count": 2,
   "id": "4bbf4fe3",
   "metadata": {},
   "outputs": [],
   "source": [
    "import re, os, sys, platform\n",
    "import pandas as pd\n",
    "import openpyxl\n",
    "from platform import python_version"
   ]
  },
  {
   "cell_type": "code",
   "execution_count": 3,
   "id": "bd7e4b75",
   "metadata": {},
   "outputs": [
    {
     "name": "stdout",
     "output_type": "stream",
     "text": [
      "give name of the tweet file: human\n",
      "\n",
      "give name of the search (abuses) file: nigga\n",
      "\n"
     ]
    }
   ],
   "source": [
    "tweet_file_name = input(\"give name of the tweet file: \")\n",
    "print()\n",
    "abuses_file_name = input(\"give name of the search (abuses) file: \")\n",
    "print()"
   ]
  },
  {
   "cell_type": "code",
   "execution_count": null,
   "id": "9a482510",
   "metadata": {},
   "outputs": [],
   "source": [
    "def get_file_path(file_name): \n",
    "    pwd = os.getcwd()\n",
    "    abs_file_path = [0] \n",
    "    for root, dir, files in os.walk(pwd):\n",
    "        if file_name in files:\n",
    "            abs_file_path.append(os.path.join(root, file_name))\n",
    "    return abs_file_path[0]\n",
    "\n",
    "def get_input_file(header, file_path, file_ext):    \n",
    "    header = header.lower()\n",
    "    if header == 'y':\n",
    "        header_option = \"infer\"\n",
    "    else: \n",
    "        header_option = None    \n",
    "    if file_ext in [\"txt\", \"text\", \"csv\"]: \n",
    "        input_file = pd.read_csv(file_path, header=header_option, \\\n",
    "            delimiter=\"\\n\")\n",
    "    elif file_ext == \"xls\": \n",
    "        input_file = pd.read_excel(file_path, header=header_option)\n",
    "    else: \n",
    "        input_file = pd.read_excel(tweet_file_path, header=header_option, \\\n",
    "                    engine=\"openpyxl\")\n",
    "    return input_file\n",
    "\n",
    "tweet_file_path = get_file_path(tweet_file_name)\n",
    "abuses_file_path = get_file_path(abuses_file_name)\n",
    "print(\"path of the tweet file: %s\" %(tweet_file_path))\n",
    "print()\n",
    "print(\"path of the search (abuses) file: %s\" %(abuses_file_path))\n",
    "print()\n",
    "\n",
    "if not os.path.isfile(tweet_file_path): \n",
    "    print(\"path of tweet file incorrect - check file path and try again!\")\n",
    "elif not os.path.isfile(abuses_file_path): \n",
    "    print(\"path of search (abuses) file incorrect - check file path and try again!\")\n",
    "    sys.exit()\n",
    "else: \n",
    "    if abuses_file_path.split(\"\\\\\")[-1].split(\".\")[-1] not in ['txt', \"text\"]: \n",
    "        print(\"file with abuses/racial slurs must be a text file with extension txt/text - create file with correct extension and try again\")\n",
    "        sys.exit() \n",
    "    else: \n",
    "        if os.stat(abuses_file_path).st_size > 0:\n",
    "            with open(abuses_file_path, \"r\") as f_bad_words:\n",
    "                list_of_abuses = []\n",
    "                for line in f_bad_words: \n",
    "                    line = line.strip(\"\\n\")\n",
    "                    list_of_abuses.append(line)\n",
    "    \n",
    "    if os.stat(tweet_file_path).st_size > 0: \n",
    "        tweet_file_ext = tweet_file_path.split(\"\\\\\")[-1].split(\".\")[-1]     \n",
    "        allowed_extensions = [\"txt\", \"csv\", \"xls\", \"xlsm\", \"xlsx\"]\n",
    "        if tweet_file_ext not in allowed_extensions: \n",
    "            print(f'input file extension is not allowed - allowed extensions:, {allowed_extensions} \\n')\n",
    "            print(\"convert file to allowed extension only and try again!\")\n",
    "            print()\n",
    "            sys.exit() \n",
    "        else:\n",
    "            file_header_option = input(\"does the tweet file has any header? [y/n] \")\n",
    "            print()\n",
    "            input_file = get_input_file(file_header_option, tweet_file_path, tweet_file_ext)\n",
    "                \n",
    "        num_cols = input_file.shape[1]\n",
    "        old_col0 = input_file.columns.to_list()[0]\n",
    "        input_file = input_file.rename(columns={old_col0: \"Tweets\"})  \n",
    "      \n",
    "        print(\"first 3 lines of the input file:\")        \n",
    "        print(input_file.head(3))\n",
    "        print()\n",
    "        print(\"tweet file has %d rows and %d columns\" %(input_file.shape[0], input_file.shape[1]))\n",
    "    \n",
    "        input_file[\"User\"] = input_file[\"Tweets\"].apply(lambda x: [x for x \\\n",
    "            in x.split(\" \") if x.startswith(\"@\")][0])\n",
    "        input_file[\"User\"] = input_file[\"User\"].apply(lambda x: str(x)) \n",
    "    \n",
    "        input_file[\"Tweets\"] = input_file[\"Tweets\"].apply(lambda x: [x for x \\\n",
    "            in x.split(\" \") ][1:])\n",
    "        input_file[\"Tweets\"] = input_file[\"Tweets\"].apply(lambda x: \" \".join(x))\n",
    "    \n",
    "                                   \n",
    "        def search_foul_words(x):     \n",
    "            tmp_list = []\n",
    "            for y in list_of_abuses: \n",
    "                if re.search(y, x, re.IGNORECASE) is not None:   \n",
    "                    tmp_list.append(y) \n",
    "                else: \n",
    "                    pass \n",
    "            another_tmp_list = []\n",
    "            for item in tmp_list: \n",
    "                if len(item) == 0:\n",
    "                    pass \n",
    "                else:\n",
    "                    another_tmp_list.append(item)\n",
    "            \n",
    "            foul_words = \", \".join(another_tmp_list)\n",
    "            return foul_words            \n",
    "                                   \n",
    "        input_file[\"Foul Words\"] = input_file[\"Tweets\"].apply(search_foul_words)\n",
    "        input_file.insert(0, \"User Handle\", input_file[\"User\"].values)\n",
    "        input_file = input_file.drop([\"User\"], axis=1)\n",
    "        \n",
    "        input_file[\"Num. Foul Words\"] = input_file[\"Foul Words\"].apply(\\\n",
    "            lambda x: len(re.findall(r'\\w+', x)))      \n",
    "    \n",
    "        input_file['Total Word Count'] = input_file['Tweets'].apply(lambda x: \\\n",
    "            len(re.findall(r'\\w+', x)))\n",
    "        \n",
    "        input_file[\"Deg. Profanity\"] = input_file[\"Num. Foul Words\"]/input_file[\"Total Word Count\"]\n",
    "    \n",
    "        print(\"final output after analysis:\") \n",
    "        print(input_file) \n",
    "        print() \n",
    "        \n",
    "        input_file.to_csv(\"tweets_analysis.csv\", index=False)"
   ]
  },
  {
   "cell_type": "code",
   "execution_count": null,
   "id": "b2912537",
   "metadata": {},
   "outputs": [],
   "source": []
  }
 ],
 "metadata": {
  "kernelspec": {
   "display_name": "Python 3 (ipykernel)",
   "language": "python",
   "name": "python3"
  },
  "language_info": {
   "codemirror_mode": {
    "name": "ipython",
    "version": 3
   },
   "file_extension": ".py",
   "mimetype": "text/x-python",
   "name": "python",
   "nbconvert_exporter": "python",
   "pygments_lexer": "ipython3",
   "version": "3.10.2"
  }
 },
 "nbformat": 4,
 "nbformat_minor": 5
}
